{
 "cells": [
  {
   "cell_type": "code",
   "execution_count": 1,
   "id": "f2224a99",
   "metadata": {},
   "outputs": [],
   "source": [
    "import numpy as np"
   ]
  },
  {
   "cell_type": "code",
   "execution_count": 2,
   "id": "65435c28",
   "metadata": {},
   "outputs": [
    {
     "data": {
      "text/plain": [
       "'1.22.3'"
      ]
     },
     "execution_count": 2,
     "metadata": {},
     "output_type": "execute_result"
    }
   ],
   "source": [
    "np.__version__"
   ]
  },
  {
   "cell_type": "code",
   "execution_count": 3,
   "id": "54edcb13",
   "metadata": {},
   "outputs": [
    {
     "name": "stdout",
     "output_type": "stream",
     "text": [
      "Requirement already satisfied: numpy in c:\\users\\lenovo\\miniconda3\\lib\\site-packages (1.22.3)Note: you may need to restart the kernel to use updated packages.\n",
      "\n"
     ]
    }
   ],
   "source": [
    "pip install numpy"
   ]
  },
  {
   "cell_type": "code",
   "execution_count": 4,
   "id": "a5074ac1",
   "metadata": {},
   "outputs": [
    {
     "data": {
      "text/plain": [
       "[1, 2, 3, 4, 5, 6]"
      ]
     },
     "execution_count": 4,
     "metadata": {},
     "output_type": "execute_result"
    }
   ],
   "source": [
    "a = [1,2,3]\n",
    "b = [4,5,6]\n",
    "\n",
    "a+b"
   ]
  },
  {
   "cell_type": "code",
   "execution_count": 8,
   "id": "19260d30",
   "metadata": {},
   "outputs": [
    {
     "data": {
      "text/plain": [
       "3"
      ]
     },
     "execution_count": 8,
     "metadata": {},
     "output_type": "execute_result"
    }
   ],
   "source": [
    "len(a)"
   ]
  },
  {
   "cell_type": "code",
   "execution_count": 5,
   "id": "e6ec655e",
   "metadata": {},
   "outputs": [
    {
     "data": {
      "text/plain": [
       "[5, 7, 9]"
      ]
     },
     "execution_count": 5,
     "metadata": {},
     "output_type": "execute_result"
    }
   ],
   "source": [
    "c = []\n",
    "for i in range(len(a)):\n",
    "    c.append(a[i] + b[i])\n",
    "    \n",
    "c"
   ]
  },
  {
   "cell_type": "code",
   "execution_count": 12,
   "id": "4554145f",
   "metadata": {},
   "outputs": [
    {
     "data": {
      "text/plain": [
       "array([5, 7, 9])"
      ]
     },
     "execution_count": 12,
     "metadata": {},
     "output_type": "execute_result"
    }
   ],
   "source": [
    "a = np.array([1,2,3])\n",
    "b = np.array([4,5,6])\n",
    "\n",
    "c=a+b\n",
    "c"
   ]
  },
  {
   "cell_type": "code",
   "execution_count": 13,
   "id": "391233d9",
   "metadata": {},
   "outputs": [
    {
     "data": {
      "text/plain": [
       "array([0.25, 0.4 , 0.5 ])"
      ]
     },
     "execution_count": 13,
     "metadata": {},
     "output_type": "execute_result"
    }
   ],
   "source": [
    "a/b"
   ]
  },
  {
   "cell_type": "code",
   "execution_count": 14,
   "id": "649e9742",
   "metadata": {},
   "outputs": [
    {
     "data": {
      "text/plain": [
       "array([ 4, 10, 18])"
      ]
     },
     "execution_count": 14,
     "metadata": {},
     "output_type": "execute_result"
    }
   ],
   "source": [
    "a*b"
   ]
  },
  {
   "cell_type": "code",
   "execution_count": 15,
   "id": "fc04a0fd",
   "metadata": {},
   "outputs": [],
   "source": [
    "a = np.array([1,2,3])"
   ]
  },
  {
   "cell_type": "code",
   "execution_count": 16,
   "id": "1d752698",
   "metadata": {},
   "outputs": [
    {
     "data": {
      "text/plain": [
       "(3,)"
      ]
     },
     "execution_count": 16,
     "metadata": {},
     "output_type": "execute_result"
    }
   ],
   "source": [
    "a.shape"
   ]
  },
  {
   "cell_type": "code",
   "execution_count": 17,
   "id": "a01480bd",
   "metadata": {},
   "outputs": [
    {
     "data": {
      "text/plain": [
       "array([[4, 5, 6],\n",
       "       [5, 6, 7]])"
      ]
     },
     "execution_count": 17,
     "metadata": {},
     "output_type": "execute_result"
    }
   ],
   "source": [
    "b = np.array([[4,5,6],\n",
    "              [5,6,7]])\n",
    "b"
   ]
  },
  {
   "cell_type": "code",
   "execution_count": 18,
   "id": "a84aa97a",
   "metadata": {
    "scrolled": false
   },
   "outputs": [
    {
     "data": {
      "text/plain": [
       "(2, 3)"
      ]
     },
     "execution_count": 18,
     "metadata": {},
     "output_type": "execute_result"
    }
   ],
   "source": [
    "b.shape"
   ]
  },
  {
   "cell_type": "code",
   "execution_count": 19,
   "id": "a95b5d8c",
   "metadata": {},
   "outputs": [
    {
     "data": {
      "text/plain": [
       "5"
      ]
     },
     "execution_count": 19,
     "metadata": {},
     "output_type": "execute_result"
    }
   ],
   "source": [
    "b[0][1]"
   ]
  },
  {
   "cell_type": "code",
   "execution_count": 20,
   "id": "9e871f74",
   "metadata": {},
   "outputs": [
    {
     "data": {
      "text/plain": [
       "6"
      ]
     },
     "execution_count": 20,
     "metadata": {},
     "output_type": "execute_result"
    }
   ],
   "source": [
    "b.size"
   ]
  },
  {
   "cell_type": "code",
   "execution_count": 21,
   "id": "8529541e",
   "metadata": {},
   "outputs": [],
   "source": [
    "three_dimension = np.array([[[1, 2, 3, 5],\n",
    "                          [4, 5, 6, 6],\n",
    "                          [7, 8, 11, 8],\n",
    "                          [7, 8, 9, 8]],\n",
    "                         \n",
    "                         [[1, 2, 3, 8],\n",
    "                          [4, 5, 6, 8],\n",
    "                          [7, 8, 9, 8],\n",
    "                          [7, 8, 9, 8]],\n",
    "                         \n",
    "                         [[1, 2, 3, 8],\n",
    "                          [4, 5, 6, 8],\n",
    "                          [7, 8, 9, 8],\n",
    "                          [7, 8, 9, 8]],\n",
    "                         \n",
    "                         [[1, 2, 3, 8],\n",
    "                          [4, 5, 6, 8],\n",
    "                          [7, 8, 9, 8],\n",
    "                          [7, 8, 9, 8]]])\n"
   ]
  },
  {
   "cell_type": "code",
   "execution_count": 22,
   "id": "14d90a05",
   "metadata": {},
   "outputs": [
    {
     "data": {
      "text/plain": [
       "(4, 4, 4)"
      ]
     },
     "execution_count": 22,
     "metadata": {},
     "output_type": "execute_result"
    }
   ],
   "source": [
    "three_dimension.shape"
   ]
  },
  {
   "cell_type": "code",
   "execution_count": 23,
   "id": "c9552c75",
   "metadata": {},
   "outputs": [
    {
     "data": {
      "text/plain": [
       "11"
      ]
     },
     "execution_count": 23,
     "metadata": {},
     "output_type": "execute_result"
    }
   ],
   "source": [
    "three_dimension[0][2][2]"
   ]
  },
  {
   "cell_type": "markdown",
   "id": "1e61d95c",
   "metadata": {},
   "source": [
    "## Creating matrix zeros"
   ]
  },
  {
   "cell_type": "code",
   "execution_count": 24,
   "id": "0e062d75",
   "metadata": {},
   "outputs": [
    {
     "data": {
      "text/plain": [
       "array([0., 0., 0., 0., 0., 0., 0., 0., 0., 0.])"
      ]
     },
     "execution_count": 24,
     "metadata": {},
     "output_type": "execute_result"
    }
   ],
   "source": [
    "m = np.zeros(10)\n",
    "m"
   ]
  },
  {
   "cell_type": "code",
   "execution_count": 25,
   "id": "5df9c4dd",
   "metadata": {},
   "outputs": [
    {
     "data": {
      "text/plain": [
       "(10,)"
      ]
     },
     "execution_count": 25,
     "metadata": {},
     "output_type": "execute_result"
    }
   ],
   "source": [
    "m.shape"
   ]
  },
  {
   "cell_type": "code",
   "execution_count": 26,
   "id": "1d90ec7e",
   "metadata": {},
   "outputs": [
    {
     "data": {
      "text/plain": [
       "array([[0., 0., 0.],\n",
       "       [0., 0., 0.],\n",
       "       [0., 0., 0.]])"
      ]
     },
     "execution_count": 26,
     "metadata": {},
     "output_type": "execute_result"
    }
   ],
   "source": [
    "n = np.zeros((3,3))\n",
    "n"
   ]
  },
  {
   "cell_type": "code",
   "execution_count": 27,
   "id": "08f8d2d9",
   "metadata": {},
   "outputs": [
    {
     "data": {
      "text/plain": [
       "(3, 3)"
      ]
     },
     "execution_count": 27,
     "metadata": {},
     "output_type": "execute_result"
    }
   ],
   "source": [
    "n.shape"
   ]
  },
  {
   "cell_type": "code",
   "execution_count": 28,
   "id": "ec5574ed",
   "metadata": {},
   "outputs": [
    {
     "data": {
      "text/plain": [
       "array([[0., 0., 0.],\n",
       "       [0., 0., 0.],\n",
       "       [0., 0., 0.]])"
      ]
     },
     "execution_count": 28,
     "metadata": {},
     "output_type": "execute_result"
    }
   ],
   "source": [
    "t = np.zeros((3,3))\n",
    "t"
   ]
  },
  {
   "cell_type": "code",
   "execution_count": 29,
   "id": "75d058d0",
   "metadata": {},
   "outputs": [],
   "source": [
    "image = np.zeros((640,540,3))"
   ]
  },
  {
   "cell_type": "markdown",
   "id": "cde01b8e",
   "metadata": {},
   "source": [
    "## Creating matrix ones "
   ]
  },
  {
   "cell_type": "code",
   "execution_count": 30,
   "id": "f442ef20",
   "metadata": {},
   "outputs": [
    {
     "data": {
      "text/plain": [
       "array([1., 1., 1., 1., 1., 1., 1., 1., 1., 1.])"
      ]
     },
     "execution_count": 30,
     "metadata": {},
     "output_type": "execute_result"
    }
   ],
   "source": [
    "m = np.ones(10)\n",
    "m"
   ]
  },
  {
   "cell_type": "code",
   "execution_count": 31,
   "id": "5e4953bc",
   "metadata": {},
   "outputs": [
    {
     "name": "stdout",
     "output_type": "stream",
     "text": [
      "Requirement already satisfied: opencv-python in c:\\users\\lenovo\\miniconda3\\lib\\site-packages (4.5.5.64)Note: you may need to restart the kernel to use updated packages.\n",
      "Requirement already satisfied: numpy>=1.19.3 in c:\\users\\lenovo\\miniconda3\\lib\\site-packages (from opencv-python) (1.22.3)\n",
      "\n"
     ]
    }
   ],
   "source": [
    "pip install opencv-python"
   ]
  },
  {
   "cell_type": "code",
   "execution_count": 32,
   "id": "99fa6da1",
   "metadata": {},
   "outputs": [],
   "source": [
    "import cv2"
   ]
  },
  {
   "cell_type": "code",
   "execution_count": 33,
   "id": "5b75a4c6",
   "metadata": {},
   "outputs": [],
   "source": [
    "import matplotlib.pyplot as plt\n",
    "from numpy import random"
   ]
  },
  {
   "cell_type": "code",
   "execution_count": 34,
   "id": "d26839bf",
   "metadata": {
    "scrolled": true
   },
   "outputs": [],
   "source": [
    "a = random.randint(100, 255, size = (640,540,3))"
   ]
  },
  {
   "cell_type": "code",
   "execution_count": 35,
   "id": "a40c3e87",
   "metadata": {},
   "outputs": [
    {
     "data": {
      "text/plain": [
       "array([[[218, 241, 212],\n",
       "        [144, 238, 188],\n",
       "        [252, 247, 129],\n",
       "        ...,\n",
       "        [248, 146, 145],\n",
       "        [201, 142, 209],\n",
       "        [155, 126, 139]],\n",
       "\n",
       "       [[187, 153, 158],\n",
       "        [224, 142, 243],\n",
       "        [174, 247, 127],\n",
       "        ...,\n",
       "        [206, 133, 130],\n",
       "        [213, 187, 169],\n",
       "        [161, 209, 165]],\n",
       "\n",
       "       [[226, 214, 177],\n",
       "        [195, 233, 162],\n",
       "        [201, 186, 216],\n",
       "        ...,\n",
       "        [125, 169, 132],\n",
       "        [195, 236, 123],\n",
       "        [103, 165, 238]],\n",
       "\n",
       "       ...,\n",
       "\n",
       "       [[251, 192, 120],\n",
       "        [205, 122, 189],\n",
       "        [195, 159, 186],\n",
       "        ...,\n",
       "        [110, 141, 178],\n",
       "        [203, 219, 227],\n",
       "        [117, 208, 190]],\n",
       "\n",
       "       [[105, 150, 174],\n",
       "        [101, 148, 157],\n",
       "        [150, 198, 119],\n",
       "        ...,\n",
       "        [186, 114, 115],\n",
       "        [184, 110, 169],\n",
       "        [213, 148, 162]],\n",
       "\n",
       "       [[175, 178, 170],\n",
       "        [213, 158, 131],\n",
       "        [177, 147, 124],\n",
       "        ...,\n",
       "        [146, 168, 204],\n",
       "        [145, 115, 136],\n",
       "        [190, 192, 105]]])"
      ]
     },
     "execution_count": 35,
     "metadata": {},
     "output_type": "execute_result"
    }
   ],
   "source": [
    "a"
   ]
  },
  {
   "cell_type": "code",
   "execution_count": 36,
   "id": "5ad828c2",
   "metadata": {
    "scrolled": true
   },
   "outputs": [
    {
     "data": {
      "text/plain": [
       "<matplotlib.image.AxesImage at 0x287be481a30>"
      ]
     },
     "execution_count": 36,
     "metadata": {},
     "output_type": "execute_result"
    },
    {
     "data": {
      "image/png": "[encoded data removed]",
      "text/plain": [
       "<Figure size 432x288 with 1 Axes>"
      ]
     },
     "metadata": {
      "needs_background": "light"
     },
     "output_type": "display_data"
    }
   ],
   "source": [
    "plt.imshow(a)"
   ]
  },
  {
   "cell_type": "markdown",
   "id": "c39cbc76",
   "metadata": {},
   "source": [
    "## Using array-generating function"
   ]
  },
  {
   "cell_type": "markdown",
   "id": "db09511f",
   "metadata": {},
   "source": [
    "### arange"
   ]
  },
  {
   "cell_type": "code",
   "execution_count": 37,
   "id": "90090ce0",
   "metadata": {},
   "outputs": [
    {
     "data": {
      "text/plain": [
       "array([ 0,  1,  2,  3,  4,  5,  6,  7,  8,  9, 10, 11, 12, 13, 14])"
      ]
     },
     "execution_count": 37,
     "metadata": {},
     "output_type": "execute_result"
    }
   ],
   "source": [
    "x = np.arange(15)\n",
    "x"
   ]
  },
  {
   "cell_type": "code",
   "execution_count": 38,
   "id": "66cc987c",
   "metadata": {},
   "outputs": [
    {
     "data": {
      "text/plain": [
       "(15,)"
      ]
     },
     "execution_count": 38,
     "metadata": {},
     "output_type": "execute_result"
    }
   ],
   "source": [
    "x.shape"
   ]
  },
  {
   "cell_type": "code",
   "execution_count": 39,
   "id": "4b053f3f",
   "metadata": {},
   "outputs": [
    {
     "data": {
      "text/plain": [
       "array([ 1,  3,  5,  7,  9, 11, 13, 15, 17, 19])"
      ]
     },
     "execution_count": 39,
     "metadata": {},
     "output_type": "execute_result"
    }
   ],
   "source": [
    "x = np.arange(1, 20, 2)\n",
    "x"
   ]
  },
  {
   "cell_type": "code",
   "execution_count": 40,
   "id": "969ee4b8",
   "metadata": {},
   "outputs": [
    {
     "data": {
      "text/plain": [
       "array([-1.00000000e+00, -9.00000000e-01, -8.00000000e-01, -7.00000000e-01,\n",
       "       -6.00000000e-01, -5.00000000e-01, -4.00000000e-01, -3.00000000e-01,\n",
       "       -2.00000000e-01, -1.00000000e-01, -2.22044605e-16,  1.00000000e-01,\n",
       "        2.00000000e-01,  3.00000000e-01,  4.00000000e-01,  5.00000000e-01,\n",
       "        6.00000000e-01,  7.00000000e-01,  8.00000000e-01,  9.00000000e-01])"
      ]
     },
     "execution_count": 40,
     "metadata": {},
     "output_type": "execute_result"
    }
   ],
   "source": [
    "x = np.arange(-1, 1, 0.1)\n",
    "x"
   ]
  },
  {
   "cell_type": "markdown",
   "id": "97479b30",
   "metadata": {},
   "source": [
    "### linspace"
   ]
  },
  {
   "cell_type": "code",
   "execution_count": 41,
   "id": "0d3de9c0",
   "metadata": {},
   "outputs": [
    {
     "data": {
      "text/plain": [
       "array([ 0.        ,  1.02040816,  2.04081633,  3.06122449,  4.08163265,\n",
       "        5.10204082,  6.12244898,  7.14285714,  8.16326531,  9.18367347,\n",
       "       10.20408163, 11.2244898 , 12.24489796, 13.26530612, 14.28571429,\n",
       "       15.30612245, 16.32653061, 17.34693878, 18.36734694, 19.3877551 ,\n",
       "       20.40816327, 21.42857143, 22.44897959, 23.46938776, 24.48979592,\n",
       "       25.51020408, 26.53061224, 27.55102041, 28.57142857, 29.59183673,\n",
       "       30.6122449 , 31.63265306, 32.65306122, 33.67346939, 34.69387755,\n",
       "       35.71428571, 36.73469388, 37.75510204, 38.7755102 , 39.79591837,\n",
       "       40.81632653, 41.83673469, 42.85714286, 43.87755102, 44.89795918,\n",
       "       45.91836735, 46.93877551, 47.95918367, 48.97959184, 50.        ])"
      ]
     },
     "execution_count": 41,
     "metadata": {},
     "output_type": "execute_result"
    }
   ],
   "source": [
    "matrix = np.linspace(0, 50, 50)\n",
    "matrix"
   ]
  },
  {
   "cell_type": "markdown",
   "id": "d2f1251f",
   "metadata": {},
   "source": [
    "## Create random array"
   ]
  },
  {
   "cell_type": "code",
   "execution_count": 42,
   "id": "f6ae7375",
   "metadata": {},
   "outputs": [],
   "source": [
    "from numpy import random"
   ]
  },
  {
   "cell_type": "code",
   "execution_count": 43,
   "id": "4e7ce72c",
   "metadata": {},
   "outputs": [
    {
     "data": {
      "text/plain": [
       "array([[0.72101694, 0.22579525, 0.84046815, 0.25193557, 0.80541131],\n",
       "       [0.01366884, 0.75788377, 0.75682488, 0.86752432, 0.07992223],\n",
       "       [0.42874431, 0.00467635, 0.26804016, 0.50995826, 0.32907368],\n",
       "       [0.04291952, 0.71814289, 0.11146515, 0.75318421, 0.32543116],\n",
       "       [0.34303221, 0.3355723 , 0.98497829, 0.36420436, 0.77842494]])"
      ]
     },
     "execution_count": 43,
     "metadata": {},
     "output_type": "execute_result"
    }
   ],
   "source": [
    "a = random.rand(5,5) # uniform distribution\n",
    "a"
   ]
  },
  {
   "cell_type": "code",
   "execution_count": 44,
   "id": "417a714f",
   "metadata": {},
   "outputs": [
    {
     "data": {
      "text/plain": [
       "(5, 5)"
      ]
     },
     "execution_count": 44,
     "metadata": {},
     "output_type": "execute_result"
    }
   ],
   "source": [
    "a.shape"
   ]
  },
  {
   "cell_type": "code",
   "execution_count": 45,
   "id": "a2caf092",
   "metadata": {},
   "outputs": [
    {
     "data": {
      "text/plain": [
       "dtype('float64')"
      ]
     },
     "execution_count": 45,
     "metadata": {},
     "output_type": "execute_result"
    }
   ],
   "source": [
    "a.dtype"
   ]
  },
  {
   "cell_type": "code",
   "execution_count": 46,
   "id": "ccc1e507",
   "metadata": {},
   "outputs": [
    {
     "data": {
      "text/plain": [
       "array([[[ 4,  5,  6,  7],\n",
       "        [ 7, 13, 18, 11],\n",
       "        [14, 13, 11, 18]],\n",
       "\n",
       "       [[15, 10,  7,  4],\n",
       "        [ 6,  9, 19, 17],\n",
       "        [ 8, 10, 18, 17]]])"
      ]
     },
     "execution_count": 46,
     "metadata": {},
     "output_type": "execute_result"
    }
   ],
   "source": [
    "random.randint(2, 20, size = (2,3,4))"
   ]
  },
  {
   "cell_type": "code",
   "execution_count": 47,
   "id": "f0d476a9",
   "metadata": {},
   "outputs": [
    {
     "data": {
      "text/plain": [
       "array([14, 11,  2,  7, 18, 15, 18,  7, 13, 10])"
      ]
     },
     "execution_count": 47,
     "metadata": {},
     "output_type": "execute_result"
    }
   ],
   "source": [
    "random.randint(2,20, size = 10)"
   ]
  },
  {
   "cell_type": "code",
   "execution_count": 48,
   "id": "601ab8c0",
   "metadata": {},
   "outputs": [
    {
     "data": {
      "text/plain": [
       "array([[ 1.31502149, -0.30025062, -0.50933551],\n",
       "       [-0.59995696,  0.27129334,  0.62666375],\n",
       "       [-1.29977348, -0.64642031,  0.12090617]])"
      ]
     },
     "execution_count": 48,
     "metadata": {},
     "output_type": "execute_result"
    }
   ],
   "source": [
    "random.randn(3,3) # normal distribution"
   ]
  },
  {
   "cell_type": "markdown",
   "id": "6a4288ac",
   "metadata": {},
   "source": [
    "## Adding, removing, and sorting element"
   ]
  },
  {
   "cell_type": "markdown",
   "id": "a772498a",
   "metadata": {},
   "source": [
    "#### Adding"
   ]
  },
  {
   "cell_type": "code",
   "execution_count": 49,
   "id": "6182f691",
   "metadata": {},
   "outputs": [
    {
     "data": {
      "text/plain": [
       "array([0, 1, 2, 3, 4, 5, 6, 7, 8, 9])"
      ]
     },
     "execution_count": 49,
     "metadata": {},
     "output_type": "execute_result"
    }
   ],
   "source": [
    "arr = np.arange(10)\n",
    "arr"
   ]
  },
  {
   "cell_type": "code",
   "execution_count": 50,
   "id": "c56dd22b",
   "metadata": {},
   "outputs": [
    {
     "data": {
      "text/plain": [
       "array([ 0,  1,  2,  3,  4,  5,  6,  7,  8,  9, 11, 12])"
      ]
     },
     "execution_count": 50,
     "metadata": {},
     "output_type": "execute_result"
    }
   ],
   "source": [
    "arr2 = np.append(arr, [11,12])\n",
    "arr2"
   ]
  },
  {
   "cell_type": "code",
   "execution_count": 51,
   "id": "27b8b00e",
   "metadata": {},
   "outputs": [],
   "source": [
    "my_arr1 = np.array([[1,2,3],\n",
    "                    [2,4,6]])"
   ]
  },
  {
   "cell_type": "code",
   "execution_count": 52,
   "id": "2ad9c6cd",
   "metadata": {},
   "outputs": [
    {
     "data": {
      "text/plain": [
       "array([[1, 2, 3],\n",
       "       [2, 4, 6]])"
      ]
     },
     "execution_count": 52,
     "metadata": {},
     "output_type": "execute_result"
    }
   ],
   "source": [
    "my_arr1"
   ]
  },
  {
   "cell_type": "code",
   "execution_count": 53,
   "id": "22b199c3",
   "metadata": {
    "scrolled": false
   },
   "outputs": [
    {
     "data": {
      "text/plain": [
       "(2, 3)"
      ]
     },
     "execution_count": 53,
     "metadata": {},
     "output_type": "execute_result"
    }
   ],
   "source": [
    "my_arr1.shape"
   ]
  },
  {
   "cell_type": "code",
   "execution_count": 54,
   "id": "1561f968",
   "metadata": {},
   "outputs": [
    {
     "data": {
      "text/plain": [
       "array([[1],\n",
       "       [2]])"
      ]
     },
     "execution_count": 54,
     "metadata": {},
     "output_type": "execute_result"
    }
   ],
   "source": [
    "vector_column = np.array([[1],[2]])\n",
    "vector_column"
   ]
  },
  {
   "cell_type": "code",
   "execution_count": 59,
   "id": "5922cb52",
   "metadata": {
    "scrolled": true
   },
   "outputs": [
    {
     "data": {
      "text/plain": [
       "array([[1, 2, 3, 2],\n",
       "       [2, 4, 6, 3]])"
      ]
     },
     "execution_count": 59,
     "metadata": {},
     "output_type": "execute_result"
    }
   ],
   "source": [
    "np.append(my_arr1, [[2],\n",
    "                    [3]], axis = 1)"
   ]
  },
  {
   "cell_type": "code",
   "execution_count": 60,
   "id": "81102179",
   "metadata": {},
   "outputs": [],
   "source": [
    "y = [[1,2,3]]"
   ]
  },
  {
   "cell_type": "code",
   "execution_count": 61,
   "id": "788b1ec8",
   "metadata": {},
   "outputs": [
    {
     "data": {
      "text/plain": [
       "array([[1, 2, 3],\n",
       "       [2, 4, 6],\n",
       "       [1, 2, 3]])"
      ]
     },
     "execution_count": 61,
     "metadata": {},
     "output_type": "execute_result"
    }
   ],
   "source": [
    "np.append(my_arr1, y, axis = 0)"
   ]
  },
  {
   "cell_type": "code",
   "execution_count": 62,
   "id": "7397e405",
   "metadata": {},
   "outputs": [
    {
     "name": "stdout",
     "output_type": "stream",
     "text": [
      "[[ 1  2  8]\n",
      " [ 5  8 10]] \n",
      "\n",
      " [[8 2 1]\n",
      " [3 9 1]]\n"
     ]
    }
   ],
   "source": [
    "a = np.array([[1, 2, 8], [5, 8, 10]])\n",
    "b = np.array([[8, 2, 1], [3, 9, 1]])\n",
    "print(f'{a} \\n\\n {b}')"
   ]
  },
  {
   "cell_type": "code",
   "execution_count": 63,
   "id": "043386e8",
   "metadata": {
    "scrolled": true
   },
   "outputs": [
    {
     "data": {
      "text/plain": [
       "array([[ 1,  2,  8],\n",
       "       [ 5,  8, 10],\n",
       "       [ 8,  2,  1],\n",
       "       [ 3,  9,  1]])"
      ]
     },
     "execution_count": 63,
     "metadata": {},
     "output_type": "execute_result"
    }
   ],
   "source": [
    "baru = np.concatenate((a,b), axis = 0)\n",
    "baru"
   ]
  },
  {
   "cell_type": "code",
   "execution_count": 64,
   "id": "f7e7903b",
   "metadata": {},
   "outputs": [
    {
     "data": {
      "text/plain": [
       "array([[ 1,  2,  8,  8,  2,  1],\n",
       "       [ 5,  8, 10,  3,  9,  1]])"
      ]
     },
     "execution_count": 64,
     "metadata": {},
     "output_type": "execute_result"
    }
   ],
   "source": [
    "np.concatenate((a,b), axis = 1)"
   ]
  },
  {
   "cell_type": "markdown",
   "id": "cc25fd9e",
   "metadata": {},
   "source": [
    "#### Removing"
   ]
  },
  {
   "cell_type": "code",
   "execution_count": 65,
   "id": "0b7ed41e",
   "metadata": {},
   "outputs": [
    {
     "data": {
      "text/plain": [
       "array([[ 1,  2,  8],\n",
       "       [ 5,  8, 10],\n",
       "       [ 3,  9,  1]])"
      ]
     },
     "execution_count": 65,
     "metadata": {},
     "output_type": "execute_result"
    }
   ],
   "source": [
    "np.delete(baru, 2, axis = 0)"
   ]
  },
  {
   "cell_type": "code",
   "execution_count": 66,
   "id": "4404660a",
   "metadata": {},
   "outputs": [
    {
     "data": {
      "text/plain": [
       "array([[ 1,  8],\n",
       "       [ 5, 10],\n",
       "       [ 8,  1],\n",
       "       [ 3,  1]])"
      ]
     },
     "execution_count": 66,
     "metadata": {},
     "output_type": "execute_result"
    }
   ],
   "source": [
    "np.delete(baru, 1, axis = 1)"
   ]
  },
  {
   "cell_type": "code",
   "execution_count": 67,
   "id": "eb7e4527",
   "metadata": {
    "scrolled": true
   },
   "outputs": [
    {
     "data": {
      "text/plain": [
       "(4, 3)"
      ]
     },
     "execution_count": 67,
     "metadata": {},
     "output_type": "execute_result"
    }
   ],
   "source": [
    "baru.shape"
   ]
  },
  {
   "cell_type": "code",
   "execution_count": 68,
   "id": "3f531c66",
   "metadata": {},
   "outputs": [
    {
     "data": {
      "text/plain": [
       "2"
      ]
     },
     "execution_count": 68,
     "metadata": {},
     "output_type": "execute_result"
    }
   ],
   "source": [
    "baru.ndim"
   ]
  },
  {
   "cell_type": "markdown",
   "id": "2e420218",
   "metadata": {},
   "source": [
    "#### Sorting"
   ]
  },
  {
   "cell_type": "code",
   "execution_count": 69,
   "id": "02376d00",
   "metadata": {},
   "outputs": [
    {
     "data": {
      "text/plain": [
       "array([-0.70777735, -0.84087167,  1.07705855,  0.21303738, -1.6856982 ])"
      ]
     },
     "execution_count": 69,
     "metadata": {},
     "output_type": "execute_result"
    }
   ],
   "source": [
    "rand = random.randn(5)\n",
    "rand"
   ]
  },
  {
   "cell_type": "code",
   "execution_count": 70,
   "id": "a4731619",
   "metadata": {},
   "outputs": [
    {
     "data": {
      "text/plain": [
       "array([-1.6856982 , -0.84087167, -0.70777735,  0.21303738,  1.07705855])"
      ]
     },
     "execution_count": 70,
     "metadata": {},
     "output_type": "execute_result"
    }
   ],
   "source": [
    "np.sort(rand)"
   ]
  },
  {
   "cell_type": "markdown",
   "id": "5c76a4ac",
   "metadata": {},
   "source": [
    "## Converting array"
   ]
  },
  {
   "cell_type": "code",
   "execution_count": 71,
   "id": "e91baf3d",
   "metadata": {},
   "outputs": [
    {
     "data": {
      "text/plain": [
       "array([0, 1, 2, 3, 4, 5, 6, 7, 8, 9])"
      ]
     },
     "execution_count": 71,
     "metadata": {},
     "output_type": "execute_result"
    }
   ],
   "source": [
    "a = np.arange(10)\n",
    "a"
   ]
  },
  {
   "cell_type": "code",
   "execution_count": 72,
   "id": "435e890e",
   "metadata": {},
   "outputs": [
    {
     "data": {
      "text/plain": [
       "(10,)"
      ]
     },
     "execution_count": 72,
     "metadata": {},
     "output_type": "execute_result"
    }
   ],
   "source": [
    "a.shape"
   ]
  },
  {
   "cell_type": "code",
   "execution_count": 73,
   "id": "cbea2c1f",
   "metadata": {
    "scrolled": false
   },
   "outputs": [
    {
     "data": {
      "text/plain": [
       "array([[0],\n",
       "       [1],\n",
       "       [2],\n",
       "       [3],\n",
       "       [4],\n",
       "       [5],\n",
       "       [6],\n",
       "       [7],\n",
       "       [8],\n",
       "       [9]])"
      ]
     },
     "execution_count": 73,
     "metadata": {},
     "output_type": "execute_result"
    }
   ],
   "source": [
    "a2 = a[:, np.newaxis]\n",
    "a2"
   ]
  },
  {
   "cell_type": "code",
   "execution_count": 84,
   "id": "1aece57f",
   "metadata": {
    "scrolled": false
   },
   "outputs": [
    {
     "data": {
      "text/plain": [
       "(10, 1)"
      ]
     },
     "execution_count": 84,
     "metadata": {},
     "output_type": "execute_result"
    }
   ],
   "source": [
    "a2.shape"
   ]
  },
  {
   "cell_type": "code",
   "execution_count": 85,
   "id": "eab96eac",
   "metadata": {
    "scrolled": true
   },
   "outputs": [
    {
     "data": {
      "text/plain": [
       "array([[0, 1, 2, 3, 4, 5, 6, 7, 8, 9]])"
      ]
     },
     "execution_count": 85,
     "metadata": {},
     "output_type": "execute_result"
    }
   ],
   "source": [
    "a3 = a[np.newaxis, :]\n",
    "a3"
   ]
  },
  {
   "cell_type": "code",
   "execution_count": 86,
   "id": "1ca56b38",
   "metadata": {
    "scrolled": true
   },
   "outputs": [
    {
     "data": {
      "text/plain": [
       "(1, 10)"
      ]
     },
     "execution_count": 86,
     "metadata": {},
     "output_type": "execute_result"
    }
   ],
   "source": [
    "a3.shape"
   ]
  },
  {
   "cell_type": "code",
   "execution_count": 88,
   "id": "48c35d71",
   "metadata": {},
   "outputs": [
    {
     "data": {
      "text/plain": [
       "array([[0, 1, 2, 3, 4, 5, 6, 7, 8, 9]])"
      ]
     },
     "execution_count": 88,
     "metadata": {},
     "output_type": "execute_result"
    }
   ],
   "source": [
    "b = np.expand_dims(a, axis = 0)\n",
    "b"
   ]
  },
  {
   "cell_type": "markdown",
   "id": "9acad6dd",
   "metadata": {},
   "source": [
    "## Indexing and slicing"
   ]
  },
  {
   "cell_type": "code",
   "execution_count": 89,
   "id": "13472b38",
   "metadata": {},
   "outputs": [
    {
     "data": {
      "text/plain": [
       "array([ 0,  1,  2,  3,  4,  5,  6,  7,  8,  9, 10, 11, 12, 13, 14])"
      ]
     },
     "execution_count": 89,
     "metadata": {},
     "output_type": "execute_result"
    }
   ],
   "source": [
    "data = np.arange(15)\n",
    "data"
   ]
  },
  {
   "cell_type": "code",
   "execution_count": 90,
   "id": "d3f6e895",
   "metadata": {
    "scrolled": true
   },
   "outputs": [
    {
     "data": {
      "text/plain": [
       "5"
      ]
     },
     "execution_count": 90,
     "metadata": {},
     "output_type": "execute_result"
    }
   ],
   "source": [
    "data[5]"
   ]
  },
  {
   "cell_type": "code",
   "execution_count": 91,
   "id": "0414a6a7",
   "metadata": {},
   "outputs": [
    {
     "data": {
      "text/plain": [
       "array([0, 1, 2, 3, 4])"
      ]
     },
     "execution_count": 91,
     "metadata": {},
     "output_type": "execute_result"
    }
   ],
   "source": [
    "data[:5]"
   ]
  },
  {
   "cell_type": "code",
   "execution_count": 92,
   "id": "29cf432e",
   "metadata": {},
   "outputs": [
    {
     "data": {
      "text/plain": [
       "array([ 3,  4,  5,  6,  7,  8,  9, 10, 11, 12, 13, 14])"
      ]
     },
     "execution_count": 92,
     "metadata": {},
     "output_type": "execute_result"
    }
   ],
   "source": [
    "data[3:]"
   ]
  },
  {
   "cell_type": "code",
   "execution_count": 93,
   "id": "c94ebc00",
   "metadata": {},
   "outputs": [
    {
     "data": {
      "text/plain": [
       "array([3, 4, 5, 6, 7, 8, 9])"
      ]
     },
     "execution_count": 93,
     "metadata": {},
     "output_type": "execute_result"
    }
   ],
   "source": [
    "data[3:10]"
   ]
  },
  {
   "cell_type": "code",
   "execution_count": 94,
   "id": "d122805c",
   "metadata": {},
   "outputs": [
    {
     "data": {
      "text/plain": [
       "array([12, 13, 14])"
      ]
     },
     "execution_count": 94,
     "metadata": {},
     "output_type": "execute_result"
    }
   ],
   "source": [
    "data[-3:]"
   ]
  },
  {
   "cell_type": "code",
   "execution_count": 100,
   "id": "d8af3934",
   "metadata": {
    "scrolled": false
   },
   "outputs": [
    {
     "data": {
      "text/plain": [
       "array([ 6,  7,  8,  9, 10, 11, 12, 13, 14])"
      ]
     },
     "execution_count": 100,
     "metadata": {},
     "output_type": "execute_result"
    }
   ],
   "source": [
    "data[data > 5]"
   ]
  },
  {
   "cell_type": "code",
   "execution_count": 96,
   "id": "e67eb0a0",
   "metadata": {},
   "outputs": [
    {
     "data": {
      "text/plain": [
       "array([ 3,  4,  5,  6,  7,  8,  9, 10, 11, 12, 13, 14])"
      ]
     },
     "execution_count": 96,
     "metadata": {},
     "output_type": "execute_result"
    }
   ],
   "source": [
    "syarat = data >= 3\n",
    "data[syarat]"
   ]
  },
  {
   "cell_type": "code",
   "execution_count": 98,
   "id": "874d1ddb",
   "metadata": {},
   "outputs": [
    {
     "data": {
      "text/plain": [
       "array([ 3,  4,  5,  6,  7,  8,  9, 10, 11])"
      ]
     },
     "execution_count": 98,
     "metadata": {},
     "output_type": "execute_result"
    }
   ],
   "source": [
    "syarat = (data >= 3) & (data < 12)\n",
    "data[syarat]"
   ]
  },
  {
   "cell_type": "code",
   "execution_count": 101,
   "id": "d3c6c85e",
   "metadata": {},
   "outputs": [
    {
     "data": {
      "text/plain": [
       "array([[7, 5, 0, 0, 2],\n",
       "       [6, 4, 2, 5, 1]])"
      ]
     },
     "execution_count": 101,
     "metadata": {},
     "output_type": "execute_result"
    }
   ],
   "source": [
    "matrix = random.randint(0, 10, size = (2,5))\n",
    "matrix"
   ]
  },
  {
   "cell_type": "code",
   "execution_count": 103,
   "id": "19c0eabc",
   "metadata": {},
   "outputs": [
    {
     "data": {
      "text/plain": [
       "array([0, 0])"
      ]
     },
     "execution_count": 103,
     "metadata": {},
     "output_type": "execute_result"
    }
   ],
   "source": [
    "matrix[:, 2:4]"
   ]
  },
  {
   "cell_type": "code",
   "execution_count": 107,
   "id": "91ee6d91",
   "metadata": {},
   "outputs": [
    {
     "data": {
      "text/plain": [
       "array([[[[3, 9, 8, 5, 6, 9, 2, 5, 4, 5],\n",
       "         [5, 0, 2, 0, 7, 5, 3, 1, 4, 2],\n",
       "         [0, 4, 1, 7, 3, 1, 2, 4, 2, 2],\n",
       "         [0, 6, 8, 9, 2, 0, 8, 6, 6, 6],\n",
       "         [1, 4, 1, 7, 1, 7, 3, 6, 4, 4]],\n",
       "\n",
       "        [[3, 5, 8, 1, 7, 3, 0, 1, 5, 3],\n",
       "         [4, 2, 7, 6, 3, 8, 8, 5, 9, 5],\n",
       "         [6, 3, 4, 3, 1, 8, 1, 8, 2, 5],\n",
       "         [2, 9, 9, 7, 2, 8, 8, 3, 0, 6],\n",
       "         [0, 2, 1, 6, 6, 3, 7, 2, 2, 6]]],\n",
       "\n",
       "\n",
       "       [[[4, 8, 0, 8, 0, 2, 2, 1, 4, 1],\n",
       "         [1, 3, 1, 9, 9, 9, 6, 0, 5, 2],\n",
       "         [5, 3, 3, 9, 1, 8, 4, 5, 7, 7],\n",
       "         [0, 4, 6, 1, 8, 3, 9, 9, 8, 8],\n",
       "         [7, 8, 4, 1, 2, 8, 0, 4, 7, 3]],\n",
       "\n",
       "        [[6, 7, 6, 8, 1, 8, 4, 9, 7, 6],\n",
       "         [2, 2, 9, 7, 6, 1, 7, 4, 6, 4],\n",
       "         [9, 8, 4, 4, 5, 7, 0, 7, 8, 4],\n",
       "         [8, 9, 7, 2, 6, 6, 8, 0, 0, 7],\n",
       "         [0, 2, 3, 0, 8, 2, 9, 1, 7, 9]]]])"
      ]
     },
     "execution_count": 107,
     "metadata": {},
     "output_type": "execute_result"
    }
   ],
   "source": [
    "three_D = random.randint(0, 10, size = (2,5,10))\n",
    "three_D"
   ]
  },
  {
   "cell_type": "code",
   "execution_count": 108,
   "id": "ac8befa9",
   "metadata": {},
   "outputs": [
    {
     "data": {
      "text/plain": [
       "array([3, 1, 2, 4, 2, 2])"
      ]
     },
     "execution_count": 108,
     "metadata": {},
     "output_type": "execute_result"
    }
   ],
   "source": [
    "three_D[0, 2, 4:]"
   ]
  },
  {
   "cell_type": "markdown",
   "id": "7bca883d",
   "metadata": {},
   "source": [
    "## Creating an array from existing data"
   ]
  },
  {
   "cell_type": "code",
   "execution_count": 109,
   "id": "2ce02fcd",
   "metadata": {},
   "outputs": [],
   "source": [
    "a = np.array([1,  2,  3,  4,  9,  6,  7,  8,  5, 10])"
   ]
  },
  {
   "cell_type": "code",
   "execution_count": 110,
   "id": "04e40e36",
   "metadata": {},
   "outputs": [
    {
     "data": {
      "text/plain": [
       "array([3, 4, 9, 6, 7, 8, 5])"
      ]
     },
     "execution_count": 110,
     "metadata": {},
     "output_type": "execute_result"
    }
   ],
   "source": [
    "a5 = a[2:9]\n",
    "a5"
   ]
  },
  {
   "cell_type": "code",
   "execution_count": 111,
   "id": "f45f06d9",
   "metadata": {},
   "outputs": [],
   "source": [
    "a1 = np.array([[1, 1],\n",
    "               [2, 2]])\n",
    "\n",
    "a2 = np.array([[3, 3],\n",
    "               [4, 4]])"
   ]
  },
  {
   "cell_type": "code",
   "execution_count": 112,
   "id": "11c1ccd7",
   "metadata": {
    "scrolled": true
   },
   "outputs": [
    {
     "name": "stdout",
     "output_type": "stream",
     "text": [
      "[[1 1]\n",
      " [2 2]] \n",
      "\n",
      " [[3 3]\n",
      " [4 4]]\n"
     ]
    }
   ],
   "source": [
    "print(f'{a1} \\n\\n {a2}')"
   ]
  },
  {
   "cell_type": "code",
   "execution_count": 113,
   "id": "8ade08eb",
   "metadata": {},
   "outputs": [
    {
     "data": {
      "text/plain": [
       "array([[1, 1],\n",
       "       [2, 2],\n",
       "       [3, 3],\n",
       "       [4, 4]])"
      ]
     },
     "execution_count": 113,
     "metadata": {},
     "output_type": "execute_result"
    }
   ],
   "source": [
    "np.vstack((a1, a2))"
   ]
  },
  {
   "cell_type": "code",
   "execution_count": 114,
   "id": "9a2a20dc",
   "metadata": {},
   "outputs": [
    {
     "data": {
      "text/plain": [
       "array([[1, 1, 3, 3],\n",
       "       [2, 2, 4, 4]])"
      ]
     },
     "execution_count": 114,
     "metadata": {},
     "output_type": "execute_result"
    }
   ],
   "source": [
    "np.hstack((a1,a2))"
   ]
  },
  {
   "cell_type": "code",
   "execution_count": 126,
   "id": "e39a744b",
   "metadata": {
    "scrolled": true
   },
   "outputs": [
    {
     "data": {
      "text/plain": [
       "array([ 1,  2,  3,  4,  5,  6,  7,  8,  9, 10, 11, 12, 13, 14, 15, 16, 17,\n",
       "       18, 19, 20, 21, 22, 23, 24])"
      ]
     },
     "execution_count": 126,
     "metadata": {},
     "output_type": "execute_result"
    }
   ],
   "source": [
    "x = np.arange(1, 25)\n",
    "x"
   ]
  },
  {
   "cell_type": "code",
   "execution_count": 127,
   "id": "2a2bc249",
   "metadata": {},
   "outputs": [
    {
     "data": {
      "text/plain": [
       "(24,)"
      ]
     },
     "execution_count": 127,
     "metadata": {},
     "output_type": "execute_result"
    }
   ],
   "source": [
    "x.shape"
   ]
  },
  {
   "cell_type": "code",
   "execution_count": 128,
   "id": "90cbd27c",
   "metadata": {
    "scrolled": true
   },
   "outputs": [
    {
     "data": {
      "text/plain": [
       "array([[ 1,  2,  3,  4,  5,  6,  7,  8,  9, 10, 11, 12],\n",
       "       [13, 14, 15, 16, 17, 18, 19, 20, 21, 22, 23, 24]])"
      ]
     },
     "execution_count": 128,
     "metadata": {},
     "output_type": "execute_result"
    }
   ],
   "source": [
    "x = x.reshape(2,12)\n",
    "x"
   ]
  },
  {
   "cell_type": "code",
   "execution_count": 129,
   "id": "22e0b9a5",
   "metadata": {},
   "outputs": [
    {
     "data": {
      "text/plain": [
       "(2, 12)"
      ]
     },
     "execution_count": 129,
     "metadata": {},
     "output_type": "execute_result"
    }
   ],
   "source": [
    "x.shape"
   ]
  },
  {
   "cell_type": "code",
   "execution_count": 130,
   "id": "7624de99",
   "metadata": {
    "scrolled": true
   },
   "outputs": [
    {
     "data": {
      "text/plain": [
       "[array([[ 1,  2,  3,  4],\n",
       "        [13, 14, 15, 16]]),\n",
       " array([[ 5,  6,  7,  8],\n",
       "        [17, 18, 19, 20]]),\n",
       " array([[ 9, 10, 11, 12],\n",
       "        [21, 22, 23, 24]])]"
      ]
     },
     "execution_count": 130,
     "metadata": {},
     "output_type": "execute_result"
    }
   ],
   "source": [
    "y = np.hsplit(x, 3)\n",
    "y"
   ]
  },
  {
   "cell_type": "code",
   "execution_count": 134,
   "id": "90291de8",
   "metadata": {
    "scrolled": true
   },
   "outputs": [
    {
     "data": {
      "text/plain": [
       "[array([[ 1,  2,  3],\n",
       "        [13, 14, 15]]),\n",
       " array([[ 4,  5],\n",
       "        [16, 17]]),\n",
       " array([[ 6,  7,  8],\n",
       "        [18, 19, 20]]),\n",
       " array([[ 9, 10, 11, 12],\n",
       "        [21, 22, 23, 24]])]"
      ]
     },
     "execution_count": 134,
     "metadata": {},
     "output_type": "execute_result"
    }
   ],
   "source": [
    "y = np.hsplit(x, (3,5,8))\n",
    "y"
   ]
  },
  {
   "cell_type": "markdown",
   "id": "5b1ae9a1",
   "metadata": {},
   "source": [
    "## Basic array operation"
   ]
  },
  {
   "cell_type": "code",
   "execution_count": 135,
   "id": "6430830f",
   "metadata": {},
   "outputs": [],
   "source": [
    "data = np.array([1, 2])\n",
    "ones = np.ones(2, dtype=int)"
   ]
  },
  {
   "cell_type": "code",
   "execution_count": 136,
   "id": "24ed535c",
   "metadata": {
    "scrolled": true
   },
   "outputs": [
    {
     "name": "stdout",
     "output_type": "stream",
     "text": [
      "[1 2] \n",
      "\n",
      " [1 1]\n"
     ]
    }
   ],
   "source": [
    "print(f'{data} \\n\\n {ones}')"
   ]
  },
  {
   "cell_type": "code",
   "execution_count": 137,
   "id": "a9e9694a",
   "metadata": {},
   "outputs": [
    {
     "data": {
      "text/plain": [
       "array([2, 3])"
      ]
     },
     "execution_count": 137,
     "metadata": {},
     "output_type": "execute_result"
    }
   ],
   "source": [
    "data + ones"
   ]
  },
  {
   "cell_type": "code",
   "execution_count": 143,
   "id": "b2db5f34",
   "metadata": {
    "scrolled": true
   },
   "outputs": [],
   "source": [
    "cek2 = data - ones"
   ]
  },
  {
   "cell_type": "code",
   "execution_count": 144,
   "id": "d1c782c6",
   "metadata": {},
   "outputs": [
    {
     "data": {
      "text/plain": [
       "dtype('int32')"
      ]
     },
     "execution_count": 144,
     "metadata": {},
     "output_type": "execute_result"
    }
   ],
   "source": [
    "cek2.dtype"
   ]
  },
  {
   "cell_type": "code",
   "execution_count": 141,
   "id": "d6777685",
   "metadata": {
    "scrolled": false
   },
   "outputs": [
    {
     "data": {
      "text/plain": [
       "array([1., 2.])"
      ]
     },
     "execution_count": 141,
     "metadata": {},
     "output_type": "execute_result"
    }
   ],
   "source": [
    "cek = data / ones\n",
    "cek"
   ]
  },
  {
   "cell_type": "code",
   "execution_count": 142,
   "id": "b7a8de08",
   "metadata": {
    "scrolled": true
   },
   "outputs": [
    {
     "data": {
      "text/plain": [
       "dtype('float64')"
      ]
     },
     "execution_count": 142,
     "metadata": {},
     "output_type": "execute_result"
    }
   ],
   "source": [
    "cek.dtype "
   ]
  },
  {
   "cell_type": "code",
   "execution_count": 145,
   "id": "f467ec5d",
   "metadata": {},
   "outputs": [
    {
     "data": {
      "text/plain": [
       "array([1, 2])"
      ]
     },
     "execution_count": 145,
     "metadata": {},
     "output_type": "execute_result"
    }
   ],
   "source": [
    "data * ones"
   ]
  },
  {
   "cell_type": "code",
   "execution_count": 146,
   "id": "81ee0c80",
   "metadata": {},
   "outputs": [],
   "source": [
    "matrix1 = random.randint(1, 10, size = (2,3))\n",
    "matrix2 = random.randint(3, 15, size = (2,3))"
   ]
  },
  {
   "cell_type": "code",
   "execution_count": 148,
   "id": "6e387067",
   "metadata": {},
   "outputs": [
    {
     "name": "stdout",
     "output_type": "stream",
     "text": [
      "[[8 8 8]\n",
      " [8 9 4]] \n",
      "\n",
      " [[ 8  3 11]\n",
      " [12 11 14]]\n"
     ]
    }
   ],
   "source": [
    "print(f'{matrix1} \\n\\n {matrix2}')"
   ]
  },
  {
   "cell_type": "code",
   "execution_count": 147,
   "id": "f3aab8f2",
   "metadata": {},
   "outputs": [
    {
     "data": {
      "text/plain": [
       "array([[64, 24, 88],\n",
       "       [96, 99, 56]])"
      ]
     },
     "execution_count": 147,
     "metadata": {},
     "output_type": "execute_result"
    }
   ],
   "source": [
    "a = matrix1*matrix2\n",
    "a"
   ]
  },
  {
   "cell_type": "code",
   "execution_count": 149,
   "id": "a3c9fd74",
   "metadata": {},
   "outputs": [
    {
     "data": {
      "text/plain": [
       "array([[8, 8, 8],\n",
       "       [8, 9, 4]])"
      ]
     },
     "execution_count": 149,
     "metadata": {},
     "output_type": "execute_result"
    }
   ],
   "source": [
    "matrix1"
   ]
  },
  {
   "cell_type": "code",
   "execution_count": 151,
   "id": "3ef9e1e3",
   "metadata": {
    "scrolled": true
   },
   "outputs": [
    {
     "data": {
      "text/plain": [
       "array([[16, 16, 16],\n",
       "       [16, 18,  8]])"
      ]
     },
     "execution_count": 151,
     "metadata": {},
     "output_type": "execute_result"
    }
   ],
   "source": [
    "matrix1 * 2"
   ]
  },
  {
   "cell_type": "code",
   "execution_count": 152,
   "id": "a073e599",
   "metadata": {},
   "outputs": [
    {
     "data": {
      "text/plain": [
       "array([160, 123, 144])"
      ]
     },
     "execution_count": 152,
     "metadata": {},
     "output_type": "execute_result"
    }
   ],
   "source": [
    "a.sum(axis = 0)"
   ]
  },
  {
   "cell_type": "code",
   "execution_count": 153,
   "id": "e1180ce4",
   "metadata": {},
   "outputs": [
    {
     "data": {
      "text/plain": [
       "array([176, 251])"
      ]
     },
     "execution_count": 153,
     "metadata": {},
     "output_type": "execute_result"
    }
   ],
   "source": [
    "a.sum(axis = 1)"
   ]
  },
  {
   "cell_type": "markdown",
   "id": "bce7b7f4",
   "metadata": {},
   "source": [
    "## How to save and load numpy objects"
   ]
  },
  {
   "cell_type": "code",
   "execution_count": 154,
   "id": "ebf319aa",
   "metadata": {},
   "outputs": [
    {
     "data": {
      "text/plain": [
       "array([0, 1, 2, 3, 4, 5, 6, 7, 8])"
      ]
     },
     "execution_count": 154,
     "metadata": {},
     "output_type": "execute_result"
    }
   ],
   "source": [
    "a = np.arange(9)\n",
    "a"
   ]
  },
  {
   "cell_type": "code",
   "execution_count": 155,
   "id": "b11361b4",
   "metadata": {},
   "outputs": [],
   "source": [
    "np.save('scalar', a)"
   ]
  },
  {
   "cell_type": "code",
   "execution_count": 156,
   "id": "d5122a61",
   "metadata": {},
   "outputs": [
    {
     "data": {
      "text/plain": [
       "array([0, 1, 2, 3, 4, 5, 6, 7, 8])"
      ]
     },
     "execution_count": 156,
     "metadata": {},
     "output_type": "execute_result"
    }
   ],
   "source": [
    "b = np.load('scalar.npy')\n",
    "b"
   ]
  },
  {
   "cell_type": "code",
   "execution_count": 157,
   "id": "3559b50b",
   "metadata": {},
   "outputs": [
    {
     "data": {
      "text/plain": [
       "array([0, 1, 2, 3, 4, 5, 6, 7, 8, 9])"
      ]
     },
     "execution_count": 157,
     "metadata": {},
     "output_type": "execute_result"
    }
   ],
   "source": [
    "c = np.arange(10)\n",
    "c"
   ]
  },
  {
   "cell_type": "code",
   "execution_count": 158,
   "id": "e4fbef24",
   "metadata": {},
   "outputs": [],
   "source": [
    "np.savetxt('scalar_baru.csv', c)"
   ]
  },
  {
   "cell_type": "code",
   "execution_count": 159,
   "id": "839da97e",
   "metadata": {},
   "outputs": [],
   "source": [
    "np.savetxt('scalar_baru.txt', c)"
   ]
  },
  {
   "cell_type": "code",
   "execution_count": 162,
   "id": "ae2c22f0",
   "metadata": {},
   "outputs": [
    {
     "data": {
      "text/plain": [
       "array([0., 1., 2., 3., 4., 5., 6., 7., 8., 9.])"
      ]
     },
     "execution_count": 162,
     "metadata": {},
     "output_type": "execute_result"
    }
   ],
   "source": [
    "baru = np.loadtxt('scalar_baru.csv')\n",
    "baru"
   ]
  },
  {
   "cell_type": "markdown",
   "id": "176104ff",
   "metadata": {},
   "source": [
    "## Tambahan materi"
   ]
  },
  {
   "cell_type": "code",
   "execution_count": 163,
   "id": "bae24332",
   "metadata": {},
   "outputs": [
    {
     "name": "stdout",
     "output_type": "stream",
     "text": [
      "[[0.68984028 0.86964698 0.78386049]\n",
      " [0.8954157  0.24507472 0.38847982]] dengan shape (2, 3)\n"
     ]
    }
   ],
   "source": [
    "a = random.rand(2,3)\n",
    "print(f'{a} dengan shape {a.shape}')"
   ]
  },
  {
   "cell_type": "code",
   "execution_count": 165,
   "id": "532a8b5f",
   "metadata": {},
   "outputs": [
    {
     "name": "stdout",
     "output_type": "stream",
     "text": [
      "[[0.68984028 0.8954157 ]\n",
      " [0.86964698 0.24507472]\n",
      " [0.78386049 0.38847982]] dengan shape (3, 2)\n"
     ]
    }
   ],
   "source": [
    "a_tranpose = a.T\n",
    "print(f'{a_tranpose} dengan shape {a_tranpose.shape}')"
   ]
  },
  {
   "cell_type": "code",
   "execution_count": 166,
   "id": "c601fd89",
   "metadata": {},
   "outputs": [
    {
     "name": "stdout",
     "output_type": "stream",
     "text": [
      "[[0.90287406 0.31209214 0.86775107]\n",
      " [0.07503896 0.35663383 0.61112782]] dengan shape (2, 3)\n"
     ]
    }
   ],
   "source": [
    "b = random.rand(2,3)\n",
    "print(f'{b} dengan shape {b.shape}')"
   ]
  },
  {
   "cell_type": "code",
   "execution_count": 167,
   "id": "ab031043",
   "metadata": {},
   "outputs": [
    {
     "name": "stdout",
     "output_type": "stream",
     "text": [
      "hasil konvolusi matrix a dan b = \n",
      "[[0.62283889 0.27140998 0.68019578]\n",
      " [0.06719106 0.08740194 0.23741082]]\n"
     ]
    }
   ],
   "source": [
    "conv = a * b\n",
    "print(f'hasil konvolusi matrix a dan b = \\n{conv}')"
   ]
  },
  {
   "cell_type": "code",
   "execution_count": 171,
   "id": "82058d7d",
   "metadata": {},
   "outputs": [
    {
     "name": "stdout",
     "output_type": "stream",
     "text": [
      "hasil kali matrix a transpose(3, 2) dan b(2, 3) = \n",
      "[[0.69002996 0.53462926 1.14582308]\n",
      " [0.80357185 0.35881192 0.90440907]\n",
      " [0.73687843 0.38318174 0.9176066 ]] dengan shape (3, 3)\n"
     ]
    }
   ],
   "source": [
    "# perkalian matrix \n",
    "product = np.matmul(a_tranpose, b)\n",
    "print(f'hasil kali matrix a transpose{a_tranpose.shape} dan b{b.shape} = \\n{product} dengan shape {product.shape}')"
   ]
  },
  {
   "cell_type": "code",
   "execution_count": 173,
   "id": "e2b7baca",
   "metadata": {},
   "outputs": [
    {
     "name": "stdout",
     "output_type": "stream",
     "text": [
      "hasil kali matrix a transpose(3, 2) dan b(2, 3) = \n",
      "[[0.69002996 0.53462926 1.14582308]\n",
      " [0.80357185 0.35881192 0.90440907]\n",
      " [0.73687843 0.38318174 0.9176066 ]] dengan shape (3, 3)\n"
     ]
    }
   ],
   "source": [
    "# perkalian matrix cara 2\n",
    "product2 = np.dot(a_tranpose, b)\n",
    "print(f'hasil kali matrix a transpose{a_tranpose.shape} dan b{b.shape} = \\n{product2} dengan shape {product.shape}')"
   ]
  },
  {
   "cell_type": "markdown",
   "id": "d75fcbf5",
   "metadata": {},
   "source": [
    "#### Adding value in specific column"
   ]
  },
  {
   "cell_type": "markdown",
   "id": "f13276f9",
   "metadata": {},
   "source": [
    "#### Cara 1"
   ]
  },
  {
   "cell_type": "code",
   "execution_count": 189,
   "id": "95348d42",
   "metadata": {
    "scrolled": true
   },
   "outputs": [
    {
     "data": {
      "text/plain": [
       "array([[0.09136177, 0.30182956, 0.90417342, 0.10510337, 0.18009591],\n",
       "       [0.96822633, 0.32646624, 0.62511394, 0.89224063, 0.2349096 ]])"
      ]
     },
     "execution_count": 189,
     "metadata": {},
     "output_type": "execute_result"
    }
   ],
   "source": [
    "arr = random.rand(2,5)\n",
    "arr"
   ]
  },
  {
   "cell_type": "code",
   "execution_count": 190,
   "id": "0b217f55",
   "metadata": {},
   "outputs": [
    {
     "data": {
      "text/plain": [
       "(2, 5)"
      ]
     },
     "execution_count": 190,
     "metadata": {},
     "output_type": "execute_result"
    }
   ],
   "source": [
    "arr.shape"
   ]
  },
  {
   "cell_type": "code",
   "execution_count": 191,
   "id": "0614ed03",
   "metadata": {},
   "outputs": [
    {
     "data": {
      "text/plain": [
       "array([[0.09136177, 0.30182956],\n",
       "       [0.96822633, 0.32646624]])"
      ]
     },
     "execution_count": 191,
     "metadata": {},
     "output_type": "execute_result"
    }
   ],
   "source": [
    "# Menambahkan nilai setelah index colom ke-1\n",
    "tambah = arr[:, :2]\n",
    "tambah"
   ]
  },
  {
   "cell_type": "code",
   "execution_count": 192,
   "id": "25bfb9c1",
   "metadata": {},
   "outputs": [
    {
     "data": {
      "text/plain": [
       "array([[0.09136177, 0.30182956, 1.        ],\n",
       "       [0.96822633, 0.32646624, 2.        ]])"
      ]
     },
     "execution_count": 192,
     "metadata": {},
     "output_type": "execute_result"
    }
   ],
   "source": [
    "nilai = [[1],[2]]\n",
    "tambah = np.append(tambah, nilai, axis = 1)\n",
    "tambah"
   ]
  },
  {
   "cell_type": "code",
   "execution_count": 193,
   "id": "1c102b7c",
   "metadata": {},
   "outputs": [
    {
     "data": {
      "text/plain": [
       "array([[0.09136177, 0.30182956, 1.        , 0.90417342, 0.10510337,\n",
       "        0.18009591],\n",
       "       [0.96822633, 0.32646624, 2.        , 0.62511394, 0.89224063,\n",
       "        0.2349096 ]])"
      ]
     },
     "execution_count": 193,
     "metadata": {},
     "output_type": "execute_result"
    }
   ],
   "source": [
    "arr1 = np.append(tambah, arr[:, 2:], axis = 1)\n",
    "arr1"
   ]
  },
  {
   "cell_type": "code",
   "execution_count": 194,
   "id": "a6b6afa9",
   "metadata": {},
   "outputs": [
    {
     "data": {
      "text/plain": [
       "(2, 6)"
      ]
     },
     "execution_count": 194,
     "metadata": {},
     "output_type": "execute_result"
    }
   ],
   "source": [
    "arr1.shape"
   ]
  },
  {
   "cell_type": "markdown",
   "id": "378a60f4",
   "metadata": {},
   "source": [
    "#### Cara 2"
   ]
  },
  {
   "cell_type": "code",
   "execution_count": 196,
   "id": "e63aebcc",
   "metadata": {
    "scrolled": true
   },
   "outputs": [
    {
     "data": {
      "text/plain": [
       "array([[0.09136177, 0.30182956, 1.        , 0.90417342, 0.10510337,\n",
       "        0.18009591],\n",
       "       [0.96822633, 0.32646624, 2.        , 0.62511394, 0.89224063,\n",
       "        0.2349096 ]])"
      ]
     },
     "execution_count": 196,
     "metadata": {},
     "output_type": "execute_result"
    }
   ],
   "source": [
    "arr2 = np.concatenate((tambah, arr[:, 2:]), axis = 1)\n",
    "arr2"
   ]
  },
  {
   "cell_type": "code",
   "execution_count": 199,
   "id": "6218a338",
   "metadata": {},
   "outputs": [
    {
     "data": {
      "text/plain": [
       "(2, 6)"
      ]
     },
     "execution_count": 199,
     "metadata": {},
     "output_type": "execute_result"
    }
   ],
   "source": [
    "arr2.shape"
   ]
  },
  {
   "cell_type": "markdown",
   "id": "3a188164",
   "metadata": {},
   "source": [
    "#### Cara 3"
   ]
  },
  {
   "cell_type": "code",
   "execution_count": 198,
   "id": "814a194a",
   "metadata": {},
   "outputs": [
    {
     "data": {
      "text/plain": [
       "array([[0.09136177, 0.30182956, 1.        , 0.90417342, 0.10510337,\n",
       "        0.18009591],\n",
       "       [0.96822633, 0.32646624, 2.        , 0.62511394, 0.89224063,\n",
       "        0.2349096 ]])"
      ]
     },
     "execution_count": 198,
     "metadata": {},
     "output_type": "execute_result"
    }
   ],
   "source": [
    "arr3 = np.hstack((tambah,arr[:, 2:]))\n",
    "arr3"
   ]
  },
  {
   "cell_type": "code",
   "execution_count": 200,
   "id": "e4443a94",
   "metadata": {},
   "outputs": [
    {
     "data": {
      "text/plain": [
       "(2, 6)"
      ]
     },
     "execution_count": 200,
     "metadata": {},
     "output_type": "execute_result"
    }
   ],
   "source": [
    "arr3.shape"
   ]
  }
 ],
 "metadata": {
  "kernelspec": {
   "display_name": "Python 3 (ipykernel)",
   "language": "python",
   "name": "python3"
  },
  "language_info": {
   "codemirror_mode": {
    "name": "ipython",
    "version": 3
   },
   "file_extension": ".py",
   "mimetype": "text/x-python",
   "name": "python",
   "nbconvert_exporter": "python",
   "pygments_lexer": "ipython3",
   "version": "3.9.7"
  }
 },
 "nbformat": 4,
 "nbformat_minor": 5
}
