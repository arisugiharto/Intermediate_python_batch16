{
 "cells": [
  {
   "cell_type": "markdown",
   "id": "a561732e",
   "metadata": {},
   "source": [
    "# Exercise 2"
   ]
  },
  {
   "cell_type": "markdown",
   "id": "83309bd1",
   "metadata": {},
   "source": [
    "### 1. Generate a 1-D array containing 5 random integers from 0 to 100"
   ]
  },
  {
   "cell_type": "code",
   "execution_count": 6,
   "id": "420d74f0",
   "metadata": {},
   "outputs": [
    {
     "data": {
      "text/plain": [
       "array([32,  3, 84, 37, 59])"
      ]
     },
     "execution_count": 6,
     "metadata": {},
     "output_type": "execute_result"
    }
   ],
   "source": [
    "from numpy import random\n",
    "rand_int= random.randint(1,100, size=5)\n",
    "rand_int"
   ]
  },
  {
   "cell_type": "markdown",
   "id": "848e8ea0",
   "metadata": {},
   "source": [
    "### 2. Generate a 2-D array with 3 rows, each row contains 5 random integers from 0 to 100"
   ]
  },
  {
   "cell_type": "code",
   "execution_count": 8,
   "id": "d1e7c7af",
   "metadata": {},
   "outputs": [
    {
     "data": {
      "text/plain": [
       "array([[79, 26, 85, 59, 71],\n",
       "       [20, 46, 52,  3, 43],\n",
       "       [93, 65,  8,  7,  5]])"
      ]
     },
     "execution_count": 8,
     "metadata": {},
     "output_type": "execute_result"
    }
   ],
   "source": [
    "rand_int2 = random.randint(0,100, size = (3,5))\n",
    "rand_int2"
   ]
  },
  {
   "cell_type": "markdown",
   "id": "927e1f1d",
   "metadata": {},
   "source": [
    "### 3 . Generate a 1-D array of 30 evenly spaced elements between 1.5 and 5.5, inclusive."
   ]
  },
  {
   "cell_type": "code",
   "execution_count": 12,
   "id": "4616e034",
   "metadata": {},
   "outputs": [
    {
     "data": {
      "text/plain": [
       "array([1.5       , 1.63793103, 1.77586207, 1.9137931 , 2.05172414,\n",
       "       2.18965517, 2.32758621, 2.46551724, 2.60344828, 2.74137931,\n",
       "       2.87931034, 3.01724138, 3.15517241, 3.29310345, 3.43103448,\n",
       "       3.56896552, 3.70689655, 3.84482759, 3.98275862, 4.12068966,\n",
       "       4.25862069, 4.39655172, 4.53448276, 4.67241379, 4.81034483,\n",
       "       4.94827586, 5.0862069 , 5.22413793, 5.36206897, 5.5       ])"
      ]
     },
     "execution_count": 12,
     "metadata": {},
     "output_type": "execute_result"
    }
   ],
   "source": [
    "import numpy as np\n",
    "element = np.linspace(1.5, 5.5, 30)\n",
    "element"
   ]
  },
  {
   "cell_type": "code",
   "execution_count": null,
   "id": "6a988d09",
   "metadata": {},
   "outputs": [],
   "source": []
  }
 ],
 "metadata": {
  "kernelspec": {
   "display_name": "Python 3 (ipykernel)",
   "language": "python",
   "name": "python3"
  },
  "language_info": {
   "codemirror_mode": {
    "name": "ipython",
    "version": 3
   },
   "file_extension": ".py",
   "mimetype": "text/x-python",
   "name": "python",
   "nbconvert_exporter": "python",
   "pygments_lexer": "ipython3",
   "version": "3.9.7"
  }
 },
 "nbformat": 4,
 "nbformat_minor": 5
}
