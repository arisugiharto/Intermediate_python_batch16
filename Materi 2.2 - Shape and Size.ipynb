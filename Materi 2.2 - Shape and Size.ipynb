{
 "cells": [
  {
   "cell_type": "markdown",
   "id": "9a2a3c82",
   "metadata": {},
   "source": [
    "# Shape and Size of an Array"
   ]
  },
  {
   "cell_type": "code",
   "execution_count": null,
   "id": "ae1fcc49",
   "metadata": {},
   "outputs": [],
   "source": [
    "#ndarray.ndim : the number of axes \\ \n",
    "#ndarray.size : the total number of element \\ \n",
    "#ndarray.shape : the number of elements stored along each dimension of the array. \n",
    "#If, for example, you have a 2-D array with 2 rows and 3 columns, the shape of your array is (2,3) "
   ]
  },
  {
   "cell_type": "code",
   "execution_count": 2,
   "id": "f9d29688",
   "metadata": {},
   "outputs": [
    {
     "data": {
      "text/plain": [
       "array([[[0, 1, 2, 3],\n",
       "        [4, 5, 6, 7]],\n",
       "\n",
       "       [[0, 1, 2, 3],\n",
       "        [4, 5, 6, 7]],\n",
       "\n",
       "       [[0, 1, 2, 3],\n",
       "        [4, 5, 6, 7]]])"
      ]
     },
     "execution_count": 2,
     "metadata": {},
     "output_type": "execute_result"
    }
   ],
   "source": [
    "import numpy as np\n",
    "from numpy import random\n",
    "\n",
    "my_array = np.array([[[0, 1, 2, 3],\n",
    "                      [4, 5, 6, 7]],\n",
    "                          \n",
    "                      [[0, 1, 2, 3],\n",
    "                      [4, 5, 6, 7]],\n",
    "                         \n",
    "                      [[0 ,1 ,2, 3],\n",
    "                      [4, 5, 6, 7]]])\n",
    "my_array"
   ]
  },
  {
   "cell_type": "code",
   "execution_count": 4,
   "id": "0e599d0a",
   "metadata": {},
   "outputs": [
    {
     "data": {
      "text/plain": [
       "3"
      ]
     },
     "execution_count": 4,
     "metadata": {},
     "output_type": "execute_result"
    }
   ],
   "source": [
    "my_array.ndim"
   ]
  },
  {
   "cell_type": "code",
   "execution_count": 5,
   "id": "373d54b1",
   "metadata": {},
   "outputs": [
    {
     "data": {
      "text/plain": [
       "24"
      ]
     },
     "execution_count": 5,
     "metadata": {},
     "output_type": "execute_result"
    }
   ],
   "source": [
    "my_array.size"
   ]
  },
  {
   "cell_type": "code",
   "execution_count": 6,
   "id": "e8391b65",
   "metadata": {},
   "outputs": [
    {
     "data": {
      "text/plain": [
       "(3, 2, 4)"
      ]
     },
     "execution_count": 6,
     "metadata": {},
     "output_type": "execute_result"
    }
   ],
   "source": [
    "my_array.shape"
   ]
  },
  {
   "cell_type": "markdown",
   "id": "ccf13153",
   "metadata": {},
   "source": [
    "##### Reshaping an array"
   ]
  },
  {
   "cell_type": "markdown",
   "id": "f0bcbc21",
   "metadata": {},
   "source": [
    " When you use the reshape method, the array you want to produce needs to have the same number of elements as the original array. If you start with an array with 12 elements, you’ll need to make sure that your new array also has a total of 12 elements."
   ]
  },
  {
   "cell_type": "code",
   "execution_count": 7,
   "id": "a3093047",
   "metadata": {},
   "outputs": [
    {
     "name": "stdout",
     "output_type": "stream",
     "text": [
      "[0 1 2 3 4 5]\n"
     ]
    }
   ],
   "source": [
    "a = np.arange(6)\n",
    "print(a)"
   ]
  },
  {
   "cell_type": "code",
   "execution_count": 10,
   "id": "48b8d851",
   "metadata": {},
   "outputs": [
    {
     "data": {
      "text/plain": [
       "array([[0, 1],\n",
       "       [2, 3],\n",
       "       [4, 5]])"
      ]
     },
     "execution_count": 10,
     "metadata": {},
     "output_type": "execute_result"
    }
   ],
   "source": [
    "a.reshape(3, 2)"
   ]
  },
  {
   "cell_type": "code",
   "execution_count": 11,
   "id": "e73fdc95",
   "metadata": {},
   "outputs": [
    {
     "data": {
      "text/plain": [
       "array([[0, 1, 2],\n",
       "       [3, 4, 5]])"
      ]
     },
     "execution_count": 11,
     "metadata": {},
     "output_type": "execute_result"
    }
   ],
   "source": [
    "a. reshape (2,3)"
   ]
  },
  {
   "cell_type": "code",
   "execution_count": null,
   "id": "868fb83c",
   "metadata": {},
   "outputs": [],
   "source": []
  }
 ],
 "metadata": {
  "kernelspec": {
   "display_name": "Python 3 (ipykernel)",
   "language": "python",
   "name": "python3"
  },
  "language_info": {
   "codemirror_mode": {
    "name": "ipython",
    "version": 3
   },
   "file_extension": ".py",
   "mimetype": "text/x-python",
   "name": "python",
   "nbconvert_exporter": "python",
   "pygments_lexer": "ipython3",
   "version": "3.9.7"
  }
 },
 "nbformat": 4,
 "nbformat_minor": 5
}
