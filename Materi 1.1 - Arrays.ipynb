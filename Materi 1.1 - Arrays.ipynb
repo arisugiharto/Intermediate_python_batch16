{
 "cells": [
  {
   "cell_type": "markdown",
   "id": "825fc4c3",
   "metadata": {},
   "source": [
    "# NUMPY - Multidimensional Data Arrays\n",
    "\n",
    "It is a package that provide high-performance vector, matrix and higher-dimensional data structures for Python. NumPy brings the computational power of languages like C and Fortran to Python, a language much easier to learn and use."
   ]
  },
  {
   "cell_type": "code",
   "execution_count": 1,
   "id": "f73bfa86",
   "metadata": {},
   "outputs": [],
   "source": [
    "import numpy as np"
   ]
  },
  {
   "cell_type": "code",
   "execution_count": 3,
   "id": "cb994caa",
   "metadata": {},
   "outputs": [
    {
     "data": {
      "text/plain": [
       "'1.20.3'"
      ]
     },
     "execution_count": 3,
     "metadata": {},
     "output_type": "execute_result"
    }
   ],
   "source": [
    "np.__version__"
   ]
  },
  {
   "cell_type": "code",
   "execution_count": 4,
   "id": "d2913aea",
   "metadata": {},
   "outputs": [
    {
     "data": {
      "text/plain": [
       "<function numpy.info(object=None, maxwidth=76, output=<ipykernel.iostream.OutStream object at 0x0000017BA6452B80>, toplevel='numpy')>"
      ]
     },
     "execution_count": 4,
     "metadata": {},
     "output_type": "execute_result"
    }
   ],
   "source": [
    "np.info"
   ]
  },
  {
   "cell_type": "markdown",
   "id": "04ab4113",
   "metadata": {},
   "source": [
    "### What is Array?\n"
   ]
  },
  {
   "cell_type": "code",
   "execution_count": 11,
   "id": "491ce28c",
   "metadata": {},
   "outputs": [
    {
     "data": {
      "text/plain": [
       "[1, 2, 3, 4, 5, 6, 7, 8]"
      ]
     },
     "execution_count": 11,
     "metadata": {},
     "output_type": "execute_result"
    }
   ],
   "source": [
    "# Python List\n",
    "\n",
    "a = [1, 2, 3, 4]\n",
    "b = [5, 6, 7, 8]\n",
    "a+b"
   ]
  },
  {
   "cell_type": "markdown",
   "id": "e3466f66",
   "metadata": {},
   "source": [
    "#### In the numpy package the terminology used for vectors, matrices and higher-dimensional data sets is array.\n"
   ]
  },
  {
   "cell_type": "code",
   "execution_count": 14,
   "id": "7c62220a",
   "metadata": {},
   "outputs": [
    {
     "name": "stdout",
     "output_type": "stream",
     "text": [
      "[ 6  8 10 12]\n",
      "[0.2        0.33333333 0.42857143 0.5       ]\n"
     ]
    }
   ],
   "source": [
    "a_array = np.array(a)\n",
    "b_array = np.array(b)\n",
    "\n",
    "print(a_array + b_array)\n",
    "print(a_array / b_array)"
   ]
  },
  {
   "cell_type": "markdown",
   "id": "6fc0b36f",
   "metadata": {},
   "source": [
    "## Creating numpy arrays\n",
    "\n",
    "\n",
    "There are some ways to initialize new numpy arrays:\n",
    "\n",
    "a Python list or tuples\n",
    "using functions that are dedicated to generating numpy arrays, such as arange, linspace, etc.\n",
    "reading data from files"
   ]
  },
  {
   "cell_type": "markdown",
   "id": "79bed0c0",
   "metadata": {},
   "source": [
    "### Lists\n"
   ]
  },
  {
   "cell_type": "code",
   "execution_count": 15,
   "id": "a2f1a361",
   "metadata": {},
   "outputs": [
    {
     "data": {
      "text/plain": [
       "(5,)"
      ]
     },
     "execution_count": 15,
     "metadata": {},
     "output_type": "execute_result"
    }
   ],
   "source": [
    "# vector: the argument to the array function is a list\n",
    "# 1 dimensi\n",
    "\n",
    "v = np.array([1, 2, 3, 4, 5])\n",
    "\n",
    "v.shape"
   ]
  },
  {
   "cell_type": "code",
   "execution_count": 16,
   "id": "82ded95c",
   "metadata": {},
   "outputs": [
    {
     "data": {
      "text/plain": [
       "(2, 3)"
      ]
     },
     "execution_count": 16,
     "metadata": {},
     "output_type": "execute_result"
    }
   ],
   "source": [
    "# matrix: the argument to the array function is a nested list\n",
    "# 2 dimensi\n",
    "\n",
    "m = np.array([[1, 2, 3], [4, 5, 6]])\n",
    "\n",
    "m.shape"
   ]
  },
  {
   "cell_type": "markdown",
   "id": "763a273a",
   "metadata": {},
   "source": [
    "The v and m objects are both of the type ndarray that the numpy module provides."
   ]
  },
  {
   "cell_type": "code",
   "execution_count": 17,
   "id": "1821cd9d",
   "metadata": {},
   "outputs": [
    {
     "data": {
      "text/plain": [
       "(numpy.ndarray, numpy.ndarray)"
      ]
     },
     "execution_count": 17,
     "metadata": {},
     "output_type": "execute_result"
    }
   ],
   "source": [
    "type(v), type(m)"
   ]
  },
  {
   "cell_type": "code",
   "execution_count": 18,
   "id": "145f4ffd",
   "metadata": {},
   "outputs": [
    {
     "data": {
      "text/plain": [
       "list"
      ]
     },
     "execution_count": 18,
     "metadata": {},
     "output_type": "execute_result"
    }
   ],
   "source": [
    "a = [1,2,3]\n",
    "type(a)"
   ]
  },
  {
   "cell_type": "markdown",
   "id": "553e3402",
   "metadata": {},
   "source": [
    "\n",
    "The difference between the v and m arrays is only their shapes. We can get information about the shape of an array by using the ndarray.shape property."
   ]
  },
  {
   "cell_type": "code",
   "execution_count": 19,
   "id": "0580091f",
   "metadata": {},
   "outputs": [
    {
     "data": {
      "text/plain": [
       "(5,)"
      ]
     },
     "execution_count": 19,
     "metadata": {},
     "output_type": "execute_result"
    }
   ],
   "source": [
    "v.shape"
   ]
  },
  {
   "cell_type": "code",
   "execution_count": 21,
   "id": "1bb3c54f",
   "metadata": {},
   "outputs": [
    {
     "data": {
      "text/plain": [
       "(2, 3)"
      ]
     },
     "execution_count": 21,
     "metadata": {},
     "output_type": "execute_result"
    }
   ],
   "source": [
    "m.shape"
   ]
  },
  {
   "cell_type": "code",
   "execution_count": 22,
   "id": "ae93e8fe",
   "metadata": {},
   "outputs": [
    {
     "data": {
      "text/plain": [
       "6"
      ]
     },
     "execution_count": 22,
     "metadata": {},
     "output_type": "execute_result"
    }
   ],
   "source": [
    "m.size"
   ]
  },
  {
   "cell_type": "markdown",
   "id": "b42168d8",
   "metadata": {},
   "source": [
    "#### numpy.ndarray looks very similiar to the list. So, why not use the list instead? numpay.ndarray is used for several reason:\n",
    "\n",
    "Lists are very general. They can contain any kind of object. They do not support mathematical functions such as matrix and dot multiplication, etc.\n",
    "Numpy arrays are statically typed and homogenous. The type of the elements is determined when the array is created\n",
    "Numpy arrays are memory efficient\n",
    "It is fast for implementation of mathematical function\n",
    "We can see the type of data of an array using dtype"
   ]
  },
  {
   "cell_type": "code",
   "execution_count": 23,
   "id": "dcf804e1",
   "metadata": {},
   "outputs": [
    {
     "data": {
      "text/plain": [
       "array([1, 2, 3])"
      ]
     },
     "execution_count": 23,
     "metadata": {},
     "output_type": "execute_result"
    }
   ],
   "source": [
    "one_dimension = np.array([1, 2, 3])\n",
    "one_dimension"
   ]
  },
  {
   "cell_type": "code",
   "execution_count": 24,
   "id": "e31f3cc9",
   "metadata": {},
   "outputs": [
    {
     "data": {
      "text/plain": [
       "(3,)"
      ]
     },
     "execution_count": 24,
     "metadata": {},
     "output_type": "execute_result"
    }
   ],
   "source": [
    "one_dimension.shape"
   ]
  },
  {
   "cell_type": "code",
   "execution_count": 25,
   "id": "b9753f5f",
   "metadata": {},
   "outputs": [
    {
     "data": {
      "text/plain": [
       "array([[1, 2, 3],\n",
       "       [4, 5, 6],\n",
       "       [7, 8, 9]])"
      ]
     },
     "execution_count": 25,
     "metadata": {},
     "output_type": "execute_result"
    }
   ],
   "source": [
    "two_dimension = np.array([[1, 2, 3],\n",
    "                          [4, 5, 6],\n",
    "                          [7, 8, 9]])\n",
    "\n",
    "two_dimension"
   ]
  },
  {
   "cell_type": "code",
   "execution_count": 26,
   "id": "2e583e68",
   "metadata": {},
   "outputs": [
    {
     "data": {
      "text/plain": [
       "(3, 3)"
      ]
     },
     "execution_count": 26,
     "metadata": {},
     "output_type": "execute_result"
    }
   ],
   "source": [
    "two_dimension.shape"
   ]
  },
  {
   "cell_type": "code",
   "execution_count": 27,
   "id": "f00b78c8",
   "metadata": {},
   "outputs": [
    {
     "data": {
      "text/plain": [
       "array([[[1, 2, 3, 5],\n",
       "        [4, 5, 6, 6],\n",
       "        [7, 8, 9, 8],\n",
       "        [7, 8, 9, 8]],\n",
       "\n",
       "       [[1, 2, 3, 8],\n",
       "        [4, 5, 6, 8],\n",
       "        [7, 8, 9, 8],\n",
       "        [7, 8, 9, 8]],\n",
       "\n",
       "       [[1, 2, 3, 8],\n",
       "        [4, 5, 6, 8],\n",
       "        [7, 8, 9, 8],\n",
       "        [7, 8, 9, 8]],\n",
       "\n",
       "       [[1, 2, 3, 8],\n",
       "        [4, 5, 6, 8],\n",
       "        [7, 8, 9, 8],\n",
       "        [7, 8, 9, 8]]])"
      ]
     },
     "execution_count": 27,
     "metadata": {},
     "output_type": "execute_result"
    }
   ],
   "source": [
    "three_dimension = np.array([[[1, 2, 3, 5],\n",
    "                          [4, 5, 6, 6],\n",
    "                          [7, 8, 9, 8],\n",
    "                          [7, 8, 9, 8]],\n",
    "                         \n",
    "                         [[1, 2, 3, 8],\n",
    "                          [4, 5, 6, 8],\n",
    "                          [7, 8, 9, 8],\n",
    "                          [7, 8, 9, 8]],\n",
    "                         \n",
    "                         [[1, 2, 3, 8],\n",
    "                          [4, 5, 6, 8],\n",
    "                          [7, 8, 9, 8],\n",
    "                          [7, 8, 9, 8]],\n",
    "                         \n",
    "                         [[1, 2, 3, 8],\n",
    "                          [4, 5, 6, 8],\n",
    "                          [7, 8, 9, 8],\n",
    "                          [7, 8, 9, 8]]])\n",
    "\n",
    "# Print hasil\n",
    "three_dimension"
   ]
  },
  {
   "cell_type": "code",
   "execution_count": 28,
   "id": "3d0a6be4",
   "metadata": {},
   "outputs": [
    {
     "data": {
      "text/plain": [
       "(4, 4, 4)"
      ]
     },
     "execution_count": 28,
     "metadata": {},
     "output_type": "execute_result"
    }
   ],
   "source": [
    "three_dimension.shape"
   ]
  },
  {
   "cell_type": "code",
   "execution_count": 29,
   "id": "c515c96f",
   "metadata": {},
   "outputs": [
    {
     "data": {
      "text/plain": [
       "array([[1, 1, 1, 1, 1, 1, 1],\n",
       "       [1, 1, 1, 1, 1, 1, 1],\n",
       "       [1, 1, 1, 1, 1, 1, 1],\n",
       "       [1, 1, 1, 1, 1, 1, 1],\n",
       "       [1, 1, 1, 1, 1, 1, 1],\n",
       "       [1, 1, 1, 1, 1, 1, 1],\n",
       "       [1, 1, 1, 1, 1, 1, 1]])"
      ]
     },
     "execution_count": 29,
     "metadata": {},
     "output_type": "execute_result"
    }
   ],
   "source": [
    "ones = np.ones((7, 7), dtype=int)\n",
    "\n",
    "# Print ones\n",
    "ones"
   ]
  },
  {
   "cell_type": "code",
   "execution_count": 30,
   "id": "02b4d663",
   "metadata": {},
   "outputs": [
    {
     "data": {
      "text/plain": [
       "array([[1., 2., 3.],\n",
       "       [4., 5., 6.]])"
      ]
     },
     "execution_count": 30,
     "metadata": {},
     "output_type": "execute_result"
    }
   ],
   "source": [
    "m = np.array([[1, 2, 3],\n",
    "              [4, 5, 6]], dtype=float)\n",
    "\n",
    "m"
   ]
  },
  {
   "cell_type": "markdown",
   "id": "8ce5bef4",
   "metadata": {},
   "source": [
    "Common data types that can be used with dtype are: int, float, complex, bool, object, etc."
   ]
  }
 ],
 "metadata": {
  "kernelspec": {
   "display_name": "Python 3 (ipykernel)",
   "language": "python",
   "name": "python3"
  },
  "language_info": {
   "codemirror_mode": {
    "name": "ipython",
    "version": 3
   },
   "file_extension": ".py",
   "mimetype": "text/x-python",
   "name": "python",
   "nbconvert_exporter": "python",
   "pygments_lexer": "ipython3",
   "version": "3.9.7"
  }
 },
 "nbformat": 4,
 "nbformat_minor": 5
}
