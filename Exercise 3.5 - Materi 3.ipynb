{
 "cells": [
  {
   "cell_type": "markdown",
   "id": "17c4bc41",
   "metadata": {},
   "source": [
    "# Exercise 5"
   ]
  },
  {
   "cell_type": "markdown",
   "id": "8fbe49b5",
   "metadata": {},
   "source": [
    "1. Using My Uber Drives - 2016 dataset, create a new column with the following condition:\n",
    "a) >10 : Long Trip\n",
    "b) 5-10 : Medium Trip\n",
    "c) <5 : Short Trip"
   ]
  }
 ],
 "metadata": {
  "kernelspec": {
   "display_name": "Python 3 (ipykernel)",
   "language": "python",
   "name": "python3"
  },
  "language_info": {
   "codemirror_mode": {
    "name": "ipython",
    "version": 3
   },
   "file_extension": ".py",
   "mimetype": "text/x-python",
   "name": "python",
   "nbconvert_exporter": "python",
   "pygments_lexer": "ipython3",
   "version": "3.9.7"
  }
 },
 "nbformat": 4,
 "nbformat_minor": 5
}
