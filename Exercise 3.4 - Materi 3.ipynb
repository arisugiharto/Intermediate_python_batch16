{
 "cells": [
  {
   "cell_type": "markdown",
   "id": "8235bf19",
   "metadata": {},
   "source": [
    "1. In My Uber Drives - 2016 dataset, find all trips that is greater than 10 miles and originated from New York and Morris"
   ]
  }
 ],
 "metadata": {
  "kernelspec": {
   "display_name": "Python 3 (ipykernel)",
   "language": "python",
   "name": "python3"
  },
  "language_info": {
   "codemirror_mode": {
    "name": "ipython",
    "version": 3
   },
   "file_extension": ".py",
   "mimetype": "text/x-python",
   "name": "python",
   "nbconvert_exporter": "python",
   "pygments_lexer": "ipython3",
   "version": "3.9.7"
  }
 },
 "nbformat": 4,
 "nbformat_minor": 5
}
