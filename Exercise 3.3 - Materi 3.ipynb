{
 "cells": [
  {
   "cell_type": "markdown",
   "id": "5b99857b",
   "metadata": {},
   "source": [
    "# Exercise 3"
   ]
  },
  {
   "cell_type": "markdown",
   "id": "afdaf039",
   "metadata": {},
   "source": [
    "1. Open My Uber Drives - 2016 dataset, select columns: START_DATE*, START*, STOP*"
   ]
  },
  {
   "cell_type": "markdown",
   "id": "69091569",
   "metadata": {},
   "source": [
    "2. Extract the first & last 10 rows of the previous columns"
   ]
  }
 ],
 "metadata": {
  "kernelspec": {
   "display_name": "Python 3 (ipykernel)",
   "language": "python",
   "name": "python3"
  },
  "language_info": {
   "codemirror_mode": {
    "name": "ipython",
    "version": 3
   },
   "file_extension": ".py",
   "mimetype": "text/x-python",
   "name": "python",
   "nbconvert_exporter": "python",
   "pygments_lexer": "ipython3",
   "version": "3.9.7"
  }
 },
 "nbformat": 4,
 "nbformat_minor": 5
}
